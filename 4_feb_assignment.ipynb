{
 "cells": [
  {
   "cell_type": "code",
   "execution_count": 2,
   "id": "6c565f8b-3110-41d8-b586-16cda52a13cb",
   "metadata": {},
   "outputs": [
    {
     "name": "stdout",
     "output_type": "stream",
     "text": [
      "('Virat Kohli', 24936) ('Jack Kallis', 25534) ('Ricky Ponting', 27483) ('Sachin Tendulkar', 34357)\n"
     ]
    }
   ],
   "source": [
    "#Answer 1\n",
    "l = [('Sachin Tendulkar', 34357), ('Ricky Ponting', 27483), ('Jack Kallis', 25534), ('Virat Kohli', 24936)]\n",
    "l.sort(key = lambda x : x[1])\n",
    "print(*l)"
   ]
  },
  {
   "cell_type": "code",
   "execution_count": 4,
   "id": "5a64f923-821a-495c-a16c-a8bea665940d",
   "metadata": {},
   "outputs": [
    {
     "name": "stdout",
     "output_type": "stream",
     "text": [
      "1 4 9 16 25 36 49 64 81 100\n"
     ]
    }
   ],
   "source": [
    "#Answer 2\n",
    "l2 = [1, 2, 3, 4, 5, 6, 7, 8, 9, 10]\n",
    "l3 = map(lambda x : x**2 , l2)\n",
    "print(*l3)"
   ]
  },
  {
   "cell_type": "code",
   "execution_count": 6,
   "id": "44ede8e3-222a-40cc-868f-a412a3178842",
   "metadata": {},
   "outputs": [
    {
     "name": "stdout",
     "output_type": "stream",
     "text": [
      "('1', '2', '3', '4', '5', '6', '7', '8', '9', '10')\n"
     ]
    }
   ],
   "source": [
    "#Answer 3\n",
    "l4 = [1, 2, 3, 4, 5, 6, 7, 8, 9, 10]\n",
    "t1 = tuple(map(lambda x : str(x),l4))\n",
    "print((t1))"
   ]
  },
  {
   "cell_type": "code",
   "execution_count": 9,
   "id": "dbd16a06-2901-4f5e-93ef-73d0b687fd55",
   "metadata": {},
   "outputs": [
    {
     "name": "stdout",
     "output_type": "stream",
     "text": [
      "15511210043330985984000000\n"
     ]
    }
   ],
   "source": [
    "#Answer 4\n",
    "from functools import reduce \n",
    "list_6 = [ i for i in range(1,26)]\n",
    "res = reduce(lambda x , y : x*y,list_6)\n",
    "print(res)"
   ]
  },
  {
   "cell_type": "code",
   "execution_count": 11,
   "id": "cd5bf742-b5c5-4b76-bc76-26c6ab30f6eb",
   "metadata": {},
   "outputs": [
    {
     "name": "stdout",
     "output_type": "stream",
     "text": [
      "2 3 6 9 27 60 90 120 46\n"
     ]
    }
   ],
   "source": [
    "#Answer 5\n",
    "list_7 = [2, 3, 6, 9, 27, 60, 90, 120, 55, 46]\n",
    "res_7 = filter(lambda x : x%2 == 0 or x%3 == 0 , list_7)\n",
    "print(*res_7)"
   ]
  },
  {
   "cell_type": "code",
   "execution_count": 15,
   "id": "5e262521-173c-46b0-8021-31e54eadf915",
   "metadata": {},
   "outputs": [
    {
     "ename": "TypeError",
     "evalue": "filter expected 2 arguments, got 1",
     "output_type": "error",
     "traceback": [
      "\u001b[0;31m---------------------------------------------------------------------------\u001b[0m",
      "\u001b[0;31mTypeError\u001b[0m                                 Traceback (most recent call last)",
      "Cell \u001b[0;32mIn[15], line 10\u001b[0m\n\u001b[1;32m      8\u001b[0m         \u001b[38;5;28;01mreturn\u001b[39;00m \u001b[38;5;28;01mTrue\u001b[39;00m\n\u001b[1;32m      9\u001b[0m     \u001b[38;5;28;01mreturn\u001b[39;00m \u001b[38;5;28;01mFalse\u001b[39;00m\n\u001b[0;32m---> 10\u001b[0m res_9 \u001b[38;5;241m=\u001b[39m \u001b[38;5;28;43mfilter\u001b[39;49m\u001b[43m(\u001b[49m\u001b[38;5;28;43;01mlambda\u001b[39;49;00m\u001b[43m \u001b[49m\u001b[43mx\u001b[49m\u001b[43m \u001b[49m\u001b[43m:\u001b[49m\u001b[43m \u001b[49m\u001b[43misPalin\u001b[49m\u001b[43m(\u001b[49m\u001b[43mx\u001b[49m\u001b[43m)\u001b[49m\u001b[43m \u001b[49m\u001b[38;5;241;43m==\u001b[39;49m\u001b[43m \u001b[49m\u001b[38;5;28;43;01mTrue\u001b[39;49;00m\u001b[43m)\u001b[49m\n\u001b[1;32m     11\u001b[0m \u001b[38;5;28mprint\u001b[39m(\u001b[38;5;241m*\u001b[39mres_9)\n",
      "\u001b[0;31mTypeError\u001b[0m: filter expected 2 arguments, got 1"
     ]
    }
   ],
   "source": [
    "#Answer 6\n",
    "list_8 = ['python', 'php', 'aba', 'radar', 'level']\n",
    "def isPalin(x) :\n",
    "    l=list(x)\n",
    "    l2 = l[:]\n",
    "    l2.reverse()\n",
    "    if l == l2  :\n",
    "        return True\n",
    "    return False\n",
    "res_9 = filter(lambda x : isPalin(x) == True)\n",
    "print(*res_9)"
   ]
  },
  {
   "cell_type": "code",
   "execution_count": null,
   "id": "a3f14b80-32d4-4828-ade3-18c15bbea7c5",
   "metadata": {},
   "outputs": [],
   "source": []
  }
 ],
 "metadata": {
  "kernelspec": {
   "display_name": "Python 3 (ipykernel)",
   "language": "python",
   "name": "python3"
  },
  "language_info": {
   "codemirror_mode": {
    "name": "ipython",
    "version": 3
   },
   "file_extension": ".py",
   "mimetype": "text/x-python",
   "name": "python",
   "nbconvert_exporter": "python",
   "pygments_lexer": "ipython3",
   "version": "3.10.8"
  }
 },
 "nbformat": 4,
 "nbformat_minor": 5
}
