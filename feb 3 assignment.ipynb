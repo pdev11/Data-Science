{
 "cells": [
  {
   "cell_type": "code",
   "execution_count": 4,
   "id": "63a0657f-d850-45c9-aacc-419f79734753",
   "metadata": {},
   "outputs": [
    {
     "data": {
      "text/plain": [
       "[1, 3, 5, 7, 9, 11, 13, 15, 17, 19, 21, 23, 25]"
      ]
     },
     "execution_count": 4,
     "metadata": {},
     "output_type": "execute_result"
    }
   ],
   "source": [
    "#Answer 1\n",
    "#def Keyword is used to create a function\n",
    "\n",
    "def odd_list() :\n",
    "    l=[]\n",
    "    for i in range(1,26) :\n",
    "        if i%2 != 0 :\n",
    "            l.append(i)\n",
    "    return l     \n",
    "odd_list()"
   ]
  },
  {
   "cell_type": "code",
   "execution_count": 2,
   "id": "7e5fdebe-6a4e-4bc6-8df6-ecb5c73ec2e2",
   "metadata": {},
   "outputs": [
    {
     "name": "stdout",
     "output_type": "stream",
     "text": [
      "2\n",
      "4\n",
      "5\n",
      "6\n",
      "########################\n",
      "a 1\n",
      "b 6\n",
      "v 0\n"
     ]
    }
   ],
   "source": [
    "#Answer 2\n",
    "# *args allows us to pass a variable number of non-keyword arguments to a Python function\n",
    "# **kwargs allows us to pass the variable length of keyword arguments to the function.\n",
    "\n",
    "def print_elements(*args) :\n",
    "    for i in args :\n",
    "        print(i)\n",
    "\n",
    "def print_dict(**kwargs) :\n",
    "    for k in kwargs :\n",
    "        print(k,kwargs[k])\n",
    "\n",
    "print_elements(2,4,5,6)   \n",
    "print(\"########################\")\n",
    "print_dict(a=1,b=6,v=0)"
   ]
  },
  {
   "cell_type": "code",
   "execution_count": 6,
   "id": "757b6993-d1f3-43da-af07-c7794d2fa084",
   "metadata": {},
   "outputs": [
    {
     "name": "stdout",
     "output_type": "stream",
     "text": [
      "2\n",
      "4\n",
      "6\n",
      "8\n",
      "10\n"
     ]
    }
   ],
   "source": [
    "#Answer 3\n",
    "# An iterator is an object that contains a countable number of values. An iterator is an object that can be iterated upon\n",
    "# iter() is used to initialize and next() is used for iteration\n",
    "l=[2, 4, 6, 8, 10, 12, 14, 16,18, 20]\n",
    "my_iter = iter(l)\n",
    "for i in range(5) :\n",
    "    print(next(my_iter))"
   ]
  },
  {
   "cell_type": "code",
   "execution_count": 12,
   "id": "6c1bd176-6920-4f4b-81f2-d2db6d34058d",
   "metadata": {},
   "outputs": [
    {
     "name": "stdout",
     "output_type": "stream",
     "text": [
      "1\n",
      "2\n",
      "3\n",
      "4\n",
      "5\n"
     ]
    }
   ],
   "source": [
    "#Answer 4\n",
    "#a generator is a function that returns an iterator that produces a sequence of values when iterated over\n",
    "# Use of yield - it needs to generate a value, it does so with the yield keyword\n",
    "def print_ele(x) :\n",
    "    for i in range(1,x+1) :\n",
    "        yield i\n",
    "my_gen = print_ele(5)\n",
    "print(next(my_gen))\n",
    "print(next(my_gen))\n",
    "print(next(my_gen))\n",
    "print(next(my_gen))\n",
    "print(next(my_gen))"
   ]
  },
  {
   "cell_type": "code",
   "execution_count": null,
   "id": "e705790b-a895-4add-914d-bb9426ca966c",
   "metadata": {},
   "outputs": [],
   "source": [
    "#Answer 5\n"
   ]
  },
  {
   "cell_type": "code",
   "execution_count": 8,
   "id": "42c7ac73-4b97-4fdb-ab44-52e613e46afd",
   "metadata": {},
   "outputs": [
    {
     "name": "stdout",
     "output_type": "stream",
     "text": [
      "2\n",
      "3\n",
      "5\n",
      "7\n",
      "11\n",
      "13\n",
      "17\n",
      "19\n",
      "23\n",
      "29\n",
      "31\n",
      "37\n",
      "41\n",
      "43\n",
      "47\n",
      "53\n",
      "59\n",
      "61\n",
      "67\n",
      "71\n"
     ]
    }
   ],
   "source": [
    "def is_Prime(x) :\n",
    "    if x ==1  :\n",
    "        return False\n",
    "    i=2\n",
    "    while i < x :\n",
    "        if x%i == 0 :\n",
    "            return False\n",
    "        i+=1\n",
    "    return True\n",
    "def generate_prime(x) :\n",
    "    n=2\n",
    "    while n <= x :\n",
    "        n+=1\n",
    "        if is_Prime(n-1) :\n",
    "            yield n-1\n",
    "my_iter_prime = generate_prime(1000)\n",
    "\n",
    "for num in range(1,21) :\n",
    "     print(next(my_iter_prime))\n"
   ]
  },
  {
   "cell_type": "code",
   "execution_count": 6,
   "id": "1a50aaf5-9e16-41c4-971c-9482d1f92ab7",
   "metadata": {},
   "outputs": [],
   "source": [
    "from math import sqrt\n",
    "\n",
    "def is_prime(n):\n",
    "    if (n <= 1):\n",
    "        return False\n",
    "    if (n == 2):\n",
    "        return True\n",
    "    if (n % 2 == 0):\n",
    "        return False\n",
    "\n",
    "    i = 3\n",
    "    while i <= sqrt(n):\n",
    "        if n % i == 0:\n",
    "            return False\n",
    "        i = i + 2\n",
    "\n",
    "    return True"
   ]
  },
  {
   "cell_type": "code",
   "execution_count": 4,
   "id": "7aab122c-14d6-49f1-85b7-b1735a14cbd7",
   "metadata": {},
   "outputs": [
    {
     "name": "stdout",
     "output_type": "stream",
     "text": [
      "2\n",
      "3\n",
      "5\n",
      "7\n",
      "11\n",
      "13\n",
      "17\n",
      "19\n",
      "23\n",
      "29\n"
     ]
    }
   ],
   "source": [
    "def prime_generator():\n",
    "    n = 1\n",
    "    while True:\n",
    "        n += 1\n",
    "        if is_prime(n):\n",
    "            yield n\n",
    "generator = prime_generator()\n",
    "\n",
    "for i in range(10):\n",
    "    print(next(generator))"
   ]
  },
  {
   "cell_type": "code",
   "execution_count": null,
   "id": "34013199-6a7f-4359-a86c-42f36322a426",
   "metadata": {},
   "outputs": [],
   "source": []
  }
 ],
 "metadata": {
  "kernelspec": {
   "display_name": "Python 3 (ipykernel)",
   "language": "python",
   "name": "python3"
  },
  "language_info": {
   "codemirror_mode": {
    "name": "ipython",
    "version": 3
   },
   "file_extension": ".py",
   "mimetype": "text/x-python",
   "name": "python",
   "nbconvert_exporter": "python",
   "pygments_lexer": "ipython3",
   "version": "3.10.8"
  }
 },
 "nbformat": 4,
 "nbformat_minor": 5
}
