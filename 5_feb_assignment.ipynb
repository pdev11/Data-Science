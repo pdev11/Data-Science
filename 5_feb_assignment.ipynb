{
 "cells": [
  {
   "cell_type": "code",
   "execution_count": 1,
   "id": "ef60f901-6b1c-4179-9804-002f66dfccdd",
   "metadata": {},
   "outputs": [],
   "source": [
    "#Answer 1\n",
    "# Class - A class is a user-defined type that describes what a certain type of object will look like.\n",
    "# Object - Instance of a class\n",
    "#this is a class Car\n",
    "class Car :\n",
    "    def __init__(self,name) :\n",
    "        self.name = name\n",
    "#this is a object of class Car        \n",
    "car_hundai = Car(\"hundai\")        "
   ]
  },
  {
   "cell_type": "code",
   "execution_count": 2,
   "id": "a22abb1b-742b-4f9f-aa17-a074541c8d4e",
   "metadata": {},
   "outputs": [],
   "source": [
    "#Answer 2\n",
    "# The four pillars are Inheritance, Polymorphism, Encapsulation and Abstraction."
   ]
  },
  {
   "cell_type": "code",
   "execution_count": 3,
   "id": "5cd73318-4394-4c7c-b7b1-f365fd57fc7a",
   "metadata": {},
   "outputs": [],
   "source": [
    "#Answer 3\n",
    "# The __init__ method is the Python is used as  constructor .\n",
    "# Its is used to pass initial parameters to an object of that class\n",
    "class Person :\n",
    "    def __init__(self,name,age) :\n",
    "        self.name = name\n",
    "        self.age = age\n",
    "        "
   ]
  },
  {
   "cell_type": "code",
   "execution_count": 4,
   "id": "25855397-e753-4db2-b21d-6b11adb9f7f9",
   "metadata": {},
   "outputs": [],
   "source": [
    "#Answer 4\n",
    "#The self parameter is a reference to the current instance of the class,\n",
    "#It is used to access variables that belongs to the class."
   ]
  },
  {
   "cell_type": "code",
   "execution_count": null,
   "id": "644623ac-5220-4088-9a97-40077afaa0e2",
   "metadata": {},
   "outputs": [],
   "source": [
    "#Answer 5\n",
    "#Inheritance allows us to define a class that inherits all the methods and properties from another class.\n",
    "\n",
    "#Single Inheritance\n",
    "class Human :\n",
    "    def __init__(self) :\n",
    "        self.eyes = 2\n",
    "\n",
    "class Child(Human) :\n",
    "    def __init__(self,name) :\n",
    "        self.name = name\n"
   ]
  },
  {
   "cell_type": "code",
   "execution_count": null,
   "id": "cef68e49-9b77-4925-a44a-d7cb54b2b081",
   "metadata": {},
   "outputs": [],
   "source": [
    "#Multiple inheritances\n",
    "class Base1(object):\n",
    "    def __init__(self):\n",
    "        self.str1 = \"st1\"\n",
    " \n",
    " \n",
    "class Base2(object):\n",
    "    def __init__(self):\n",
    "        self.str2 = \"st2\"\n",
    " \n",
    " \n",
    "class Derived(Base1, Base2):\n",
    "    def __init__(self):\n",
    "        self.str3 = \"st3\""
   ]
  },
  {
   "cell_type": "code",
   "execution_count": null,
   "id": "10c25830-c76c-4243-b5a5-2e69da174590",
   "metadata": {},
   "outputs": [],
   "source": [
    "#Multilevel inheritance\n",
    "\n",
    "class Base(object):\n",
    "\n",
    "\tdef __init__(self, name):\n",
    "\t\tself.name = name\n",
    "\n",
    "class Child(Base):\n",
    "\tdef __init__(self, name, age):\n",
    "\t\tBase.__init__(self, name)\n",
    "\t\tself.age = age\n",
    "\n",
    "class GrandChild(Child):\n",
    "\tdef __init__(self, name, age, address):\n",
    "\t\tChild.__init__(self, name, age)\n",
    "\t\tself.address = address\n"
   ]
  }
 ],
 "metadata": {
  "kernelspec": {
   "display_name": "Python 3 (ipykernel)",
   "language": "python",
   "name": "python3"
  },
  "language_info": {
   "codemirror_mode": {
    "name": "ipython",
    "version": 3
   },
   "file_extension": ".py",
   "mimetype": "text/x-python",
   "name": "python",
   "nbconvert_exporter": "python",
   "pygments_lexer": "ipython3",
   "version": "3.10.8"
  }
 },
 "nbformat": 4,
 "nbformat_minor": 5
}
